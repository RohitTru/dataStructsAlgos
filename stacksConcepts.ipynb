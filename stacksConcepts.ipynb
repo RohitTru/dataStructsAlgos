{
 "cells": [
  {
   "cell_type": "code",
   "execution_count": null,
   "metadata": {},
   "outputs": [],
   "source": [
    "import random"
   ]
  },
  {
   "cell_type": "markdown",
   "metadata": {},
   "source": [
    "#### STACK CLASS"
   ]
  },
  {
   "cell_type": "code",
   "execution_count": null,
   "metadata": {},
   "outputs": [],
   "source": [
    "class Stack:\n",
    "    def __init__(self):\n",
    "        self.items = []\n",
    "\n",
    "    def isEmpty(self):\n",
    "        return self.items == []\n",
    "\n",
    "    def push(self, item):\n",
    "        self.items.append(item)\n",
    "\n",
    "    def pop(self):\n",
    "        if self.items:\n",
    "            return self.items.pop()\n",
    "        else:\n",
    "            print(\"pop() error: Stack is empty.\")\n",
    "            return None\n",
    "\n",
    "    def peek(self):\n",
    "        if self.items:\n",
    "            return self.items[-1]\n",
    "        else:\n",
    "            print(\"peek() error: Stack is empty.\")\n",
    "            return None\n",
    "\n",
    "    def size(self):\n",
    "        return len(self.items)"
   ]
  },
  {
   "cell_type": "code",
   "execution_count": null,
   "metadata": {},
   "outputs": [],
   "source": [
    "class listFunctions:\n",
    "    def __init__(self, variableName):\n",
    "        if variableName == []:\n",
    "            self.variablename = variableName\n",
    "        else:\n",
    "            (\"gimme a mf list\")\n",
    "    def newList(variableName):\n",
    "        holder = True\n",
    "        x = 0\n",
    "        while holder == True:\n",
    "            if x == 10:\n",
    "                holder = False\n",
    "                return variableName\n",
    "            else:\n",
    "                variableName.append(random.randint(0,10))\n",
    "            x += 1"
   ]
  },
  {
   "cell_type": "code",
   "execution_count": null,
   "metadata": {},
   "outputs": [],
   "source": [
    "myList = listFunctions.newList([])\n",
    "print(myList)"
   ]
  },
  {
   "cell_type": "code",
   "execution_count": null,
   "metadata": {},
   "outputs": [],
   "source": [
    "def reversedList(list):\n",
    "    reversedList = []\n",
    "    for i in range(len(list)):\n",
    "        reversedList.append(list.pop())\n",
    "    return reversedList\n"
   ]
  },
  {
   "cell_type": "code",
   "execution_count": null,
   "metadata": {},
   "outputs": [],
   "source": [
    "reversedList(myList)"
   ]
  },
  {
   "cell_type": "markdown",
   "metadata": {},
   "source": [
    "list getter function"
   ]
  },
  {
   "cell_type": "code",
   "execution_count": null,
   "metadata": {},
   "outputs": [],
   "source": [
    "class postfixEval:\n",
    "    def getList():\n",
    "        validInputs = ['0','1','2','3','4','5','6','7','8','9','-','+','/','*']\n",
    "        loopBreaker = True\n",
    "        newList = []\n",
    "        userInput = \"\"\n",
    "        # Obtain our list from user input \n",
    "        while True:\n",
    "            userInput = str(input())\n",
    "            #Checks to see if valid inut and if so appends to list\n",
    "            if userInput in validInputs:\n",
    "                newList.append(userInput)\n",
    "                print(\"current List\" + format(newList))\n",
    "\n",
    "            #breaks our loop if the user presses enter\n",
    "            if not userInput:\n",
    "                return newList\n",
    "            \n",
    "            #Returns invalid input if not found in valid inputs\n",
    "            if userInput not in validInputs or userInput == '':\n",
    "                print(\"not a valid input\")\n",
    "\n",
    "    def listChecker(newlist):\n",
    "        # okay so we have to have on less opperand than numbers so how do we check that?\n",
    "        operands = ['-','+','/','*']\n",
    "        values = ['0','1','2','3','4','5','6','7','8','9']\n",
    "        numbersList = []\n",
    "        operandsList = []\n",
    "        for i in newlist:\n",
    "            if i in values:\n",
    "                numbersList.append(i)\n",
    "            if i in operandsList:\n",
    "                operandsList.append(i)\n",
    "            return numbersList\n",
    "            return operandsList\n",
    "                \n",
    "\n",
    "\n",
    "\n",
    "    "
   ]
  },
  {
   "cell_type": "code",
   "execution_count": null,
   "metadata": {},
   "outputs": [],
   "source": [
    "myList = postfixEval.getList()\n",
    "validList = postfixEval.listChecker(myList)"
   ]
  },
  {
   "cell_type": "code",
   "execution_count": 298,
   "metadata": {},
   "outputs": [
    {
     "name": "stdout",
     "output_type": "stream",
     "text": [
      "Stack contents:  ['{', '{', ']', '}', '{', '}']\n"
     ]
    }
   ],
   "source": [
    "stringInput = input()\n",
    "myStack = Stack()\n",
    "\n",
    "for bracket in stringInput:\n",
    "    myStack.push(bracket)\n",
    "\n",
    "print(\"Stack contents: \", myStack.items)"
   ]
  },
  {
   "cell_type": "code",
   "execution_count": null,
   "metadata": {},
   "outputs": [],
   "source": [
    "types = {'(':')', '[':']','{':'}'}\n",
    "acceptedValues = []\n",
    "\n",
    "for i in range(0, myStack.size()):\n",
    "\ttestedValue = myStack.pop()\n",
    "\tpeekValue = myStack.peek()\n",
    "\t#setkey\n",
    "\tif peekValue == types.get(testedValue):\n",
    "\t\tacceptedValues.append(testedValue)\n",
    "\t\tacceptedValues.append(i)\n",
    "\t\tprint(\"found a match\")\n",
    "\telse:\n",
    "\t\ti+=1\n",
    "print(acceptedValues)"
   ]
  },
  {
   "cell_type": "code",
   "execution_count": null,
   "metadata": {},
   "outputs": [],
   "source": [
    "def validParatheses(myStack):\n",
    "    \n",
    "    types = {')':'(', ']':'[','}':'{'}\n",
    "    acceptedValues = []\n",
    "    rejectedValues = []\n",
    "    while True:\n",
    "        \n",
    "        \n",
    "        testedValue = myStack.pop()\n",
    "        peekValue = myStack.peek()\n",
    "        #setkey\n",
    "        \n",
    "        \n",
    "        # Acccepted values\n",
    "        if peekValue == types.get(testedValue):\n",
    "            acceptedValues.append(testedValue)\n",
    "            acceptedValues.append(myStack.pop())\n",
    "            print(\"found a match\" + peekValue + \"\" + testedValue)\n",
    "\n",
    "        if myStack.isEmpty() == True:\n",
    "                print(\"Stack contents: \", myStack.items)\n",
    "                break\n",
    "\n",
    "        # Rejected values\n",
    "        if peekValue != testedValue:\n",
    "            rejectedValues.append(testedValue)\n",
    "            rejectedValues.append(myStack.pop())\n",
    "        \n",
    "        print(\"these are the Accepted values: \")\n",
    "        print(acceptedValues) \n",
    "        print(\"these are the rejected values: \")\n",
    "        return rejectedValues\n",
    "\n",
    "    \n"
   ]
  },
  {
   "cell_type": "code",
   "execution_count": null,
   "metadata": {},
   "outputs": [],
   "source": [
    "validParatheses(myStack)"
   ]
  }
 ],
 "metadata": {
  "kernelspec": {
   "display_name": "venv",
   "language": "python",
   "name": "python3"
  },
  "language_info": {
   "codemirror_mode": {
    "name": "ipython",
    "version": 3
   },
   "file_extension": ".py",
   "mimetype": "text/x-python",
   "name": "python",
   "nbconvert_exporter": "python",
   "pygments_lexer": "ipython3",
   "version": "3.10.11"
  }
 },
 "nbformat": 4,
 "nbformat_minor": 2
}
