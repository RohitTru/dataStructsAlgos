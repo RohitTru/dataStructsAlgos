{
 "cells": [
  {
   "cell_type": "code",
   "execution_count": 97,
   "metadata": {},
   "outputs": [],
   "source": [
    "import random"
   ]
  },
  {
   "cell_type": "code",
   "execution_count": 98,
   "metadata": {},
   "outputs": [],
   "source": [
    "class listFunctions:\n",
    "    def __init__(self, variableName):\n",
    "        if variableName == []:\n",
    "            self.variablename = variableName\n",
    "        else:\n",
    "            (\"gimme a mf list\")\n",
    "    def newList(variableName):\n",
    "        holder = True\n",
    "        x = 0\n",
    "        while holder == True:\n",
    "            if x == 10:\n",
    "                holder = False\n",
    "                return variableName\n",
    "            else:\n",
    "                variableName.append(random.randint(0,10))\n",
    "            x += 1"
   ]
  },
  {
   "cell_type": "code",
   "execution_count": 99,
   "metadata": {},
   "outputs": [
    {
     "name": "stdout",
     "output_type": "stream",
     "text": [
      "[7, 7, 3, 7, 2, 7, 2, 0, 8, 9]\n"
     ]
    }
   ],
   "source": [
    "myList = listFunctions.newList([])\n",
    "print(myList)"
   ]
  },
  {
   "cell_type": "code",
   "execution_count": 100,
   "metadata": {},
   "outputs": [],
   "source": [
    "def reversedList(list):\n",
    "    reversedList = []\n",
    "    for i in range(len(list)):\n",
    "        reversedList.append(list.pop())\n",
    "    return reversedList\n"
   ]
  },
  {
   "cell_type": "code",
   "execution_count": 101,
   "metadata": {},
   "outputs": [
    {
     "data": {
      "text/plain": [
       "[9, 8, 0, 2, 7, 2, 7, 3, 7, 7]"
      ]
     },
     "execution_count": 101,
     "metadata": {},
     "output_type": "execute_result"
    }
   ],
   "source": [
    "reversedList(myList)"
   ]
  }
 ],
 "metadata": {
  "kernelspec": {
   "display_name": "venv",
   "language": "python",
   "name": "python3"
  },
  "language_info": {
   "codemirror_mode": {
    "name": "ipython",
    "version": 3
   },
   "file_extension": ".py",
   "mimetype": "text/x-python",
   "name": "python",
   "nbconvert_exporter": "python",
   "pygments_lexer": "ipython3",
   "version": "3.10.11"
  }
 },
 "nbformat": 4,
 "nbformat_minor": 2
}
